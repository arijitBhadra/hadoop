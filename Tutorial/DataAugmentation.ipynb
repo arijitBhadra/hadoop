{
 "cells": [
  {
   "cell_type": "markdown",
   "metadata": {
    "_uuid": "abca40f118f28f0375c53ca1b941b423668afbac"
   },
   "source": [
    "# Exercise Introduction\n",
    "We will return to the automatic rotation problem you worked on in the previous exercise. But we'll add data augmentation to improve your model.\n",
    "\n",
    "The model specification and compilation steps don't change when you start using data augmentation. The code you've already worked with for specifying and compiling a model is in the cell below.  Run it so you'll be ready to work on data augmentation."
   ]
  },
  {
   "cell_type": "code",
   "execution_count": 2,
   "metadata": {
    "_kg_hide-output": true,
    "_uuid": "20c2e190d4249748364a38e160669ccdad4a4651"
   },
   "outputs": [
    {
     "name": "stdout",
     "output_type": "stream",
     "text": [
      "Setup Complete\n"
     ]
    }
   ],
   "source": [
    "from tensorflow.keras.applications import ResNet50\n",
    "from tensorflow.keras.models import Sequential\n",
    "from tensorflow.keras.layers import Dense, Flatten, GlobalAveragePooling2D\n",
    "\n",
    "num_classes = 2\n",
    "resnet_weights_path = '../input/resnet50/resnet50_weights_tf_dim_ordering_tf_kernels_notop.h5'\n",
    "\n",
    "my_new_model = Sequential()\n",
    "my_new_model.add(ResNet50(include_top=False, pooling='avg', weights=resnet_weights_path))\n",
    "my_new_model.add(Dense(num_classes, activation='softmax'))\n",
    "\n",
    "my_new_model.layers[0].trainable = False\n",
    "\n",
    "my_new_model.compile(optimizer='sgd', loss='categorical_crossentropy', metrics=['accuracy'])\n",
    "\n",
    "# Set up code checking\n",
    "from learntools.core import binder\n",
    "binder.bind(globals())\n",
    "from learntools.deep_learning.exercise_5 import *\n",
    "print(\"Setup Complete\")"
   ]
  },
  {
   "cell_type": "markdown",
   "metadata": {
    "_uuid": "6ea0d5b1f1eed8d7da7665e8db322b17a4cbef20"
   },
   "source": [
    "# 1) Fit the Model Using Data Augmentation\n",
    "\n",
    "Here is some code to set up some ImageDataGenerators. Run it, and then answer the questions below about it."
   ]
  },
  {
   "cell_type": "code",
   "execution_count": 1,
   "metadata": {
    "_uuid": "91b09fc017ffff54d5281017469ab18d39f0934c"
   },
   "outputs": [],
   "source": [
    "from tensorflow.keras.applications.resnet50 import preprocess_input\n",
    "from tensorflow.keras.preprocessing.image import ImageDataGenerator\n",
    "\n",
    "image_size = 224\n",
    "\n",
    "# Specify the values for all arguments to data_generator_with_aug.\n",
    "data_generator_with_aug = ImageDataGenerator(preprocessing_function=preprocess_input,\n",
    "                                              horizontal_flip = True,\n",
    "                                              width_shift_range = 0.1,\n",
    "                                              height_shift_range = 0.1)\n",
    "            \n",
    "data_generator_no_aug = ImageDataGenerator(preprocessing_function=preprocess_input)\n"
   ]
  },
  {
   "cell_type": "markdown",
   "metadata": {
    "_uuid": "f339fe7fd0c83791dda79aab35bf2400f77884a5"
   },
   "source": [
    "Why do we need both a generator with augmentation and a generator without augmentation? After thinking about it, check out the solution below.   \n",
    "Solution: We want to do data augmentation when fitting the model for the reasons mentioned in the video (including a reduction in overfitting, by giving us more data to work with).\n",
    "\n",
    "But we don't want to change how we test the model. So the validation generator will use an ImageDataGenerator without augmentation. That allows a straightforward comparison between different training procedures (e.g. training with augmentation and without it).\n",
    "\n",
    "If the augmentation made it harder to predict the label associated with an image (e.g. because of how the image was cropped in augmentation) that would make it misleading to compare scores to another procedure where the validation data was only original images."
   ]
  },
  {
   "cell_type": "code",
   "execution_count": 4,
   "metadata": {
    "_uuid": "35d3ff51f4c4523de5ed3e991475015c77013f16",
    "scrolled": true
   },
   "outputs": [
    {
     "data": {
      "application/javascript": [
       "parent.postMessage({\"jupyterEvent\": \"custom.exercise_interaction\", \"data\": {\"interactionType\": 3, \"learnTutorialId\": 77, \"questionId\": \"1_WhyTwoGenerators\", \"learnToolsVersion\": \"0.2.12\", \"valueTowardsCompletion\": 0.0, \"failureMessage\": \"\", \"exceptionClass\": \"\", \"trace\": \"\", \"outcomeType\": 4}}, \"*\")"
      ],
      "text/plain": [
       "<IPython.core.display.Javascript object>"
      ]
     },
     "metadata": {},
     "output_type": "display_data"
    },
    {
     "data": {
      "text/markdown": [
       "<span style=\"color:#33cc99\">Solution:</span> \n",
       "We want to do data augmentation when fitting the model for the reasons mentioned\n",
       "in the video (including a reduction in overfitting, by giving us more data to work with).\n",
       "\n",
       "But we don't want to change how we test the model. So the validation generator\n",
       "will use an ImageDataGenerator without augmentation. That allows a straightforward\n",
       "comparison between different training procedures (e.g. training with augmentation\n",
       "and without it).\n",
       "\n",
       "If the augmentation made it harder to predict the label associated with an image\n",
       "(e.g. because of how the image was cropped in augmentation) that would make it misleading\n",
       "to compare scores to another procedure where the validation data was only original images.\n"
      ],
      "text/plain": [
       "Solution: \n",
       "We want to do data augmentation when fitting the model for the reasons mentioned\n",
       "in the video (including a reduction in overfitting, by giving us more data to work with).\n",
       "\n",
       "But we don't want to change how we test the model. So the validation generator\n",
       "will use an ImageDataGenerator without augmentation. That allows a straightforward\n",
       "comparison between different training procedures (e.g. training with augmentation\n",
       "and without it).\n",
       "\n",
       "If the augmentation made it harder to predict the label associated with an image\n",
       "(e.g. because of how the image was cropped in augmentation) that would make it misleading\n",
       "to compare scores to another procedure where the validation data was only original images."
      ]
     },
     "metadata": {},
     "output_type": "display_data"
    }
   ],
   "source": [
    " q_1.solution()"
   ]
  },
  {
   "cell_type": "markdown",
   "metadata": {
    "_uuid": "f9d4e9664ac6eab6a656c2379db4afc64c1656df"
   },
   "source": [
    "# 2) Choosing Augmentation Types\n",
    "ImageDataGenerator offers many types of data augmentation. For example, one argument is `rotation_range`. This rotates each image by a random amount that can be up to whatever value you specify.\n",
    "\n",
    "Would it be sensible to use automatic rotation for this problem?  Why or why not?"
   ]
  },
  {
   "cell_type": "code",
   "execution_count": 3,
   "metadata": {
    "_uuid": "c82640b2a2557d8866c2f3e188f6ff1548b80599"
   },
   "outputs": [
    {
     "data": {
      "application/javascript": [
       "parent.postMessage({\"jupyterEvent\": \"custom.exercise_interaction\", \"data\": {\"interactionType\": 3, \"learnTutorialId\": 77, \"questionId\": \"2_RotationCriticism\", \"learnToolsVersion\": \"0.2.12\", \"valueTowardsCompletion\": 0.0, \"failureMessage\": \"\", \"exceptionClass\": \"\", \"trace\": \"\", \"outcomeType\": 4}}, \"*\")"
      ],
      "text/plain": [
       "<IPython.core.display.Javascript object>"
      ]
     },
     "metadata": {},
     "output_type": "display_data"
    },
    {
     "data": {
      "text/markdown": [
       "<span style=\"color:#33cc99\">Solution:</span> \n",
       "The goal in this problem is to tell if an image is upright or sideways.  Rotating images\n",
       "moderately might cause images that don't feel cleanly in either category.\n",
       "\n",
       "Since data augmentation affects images without touching the labels, a dramatic rotation\n",
       "would mean some images are used for training with the wrong label (e.g. an image would be rotated\n",
       "sideways by the generator, and still have a label of being upright)\n"
      ],
      "text/plain": [
       "Solution: \n",
       "The goal in this problem is to tell if an image is upright or sideways.  Rotating images\n",
       "moderately might cause images that don't feel cleanly in either category.\n",
       "\n",
       "Since data augmentation affects images without touching the labels, a dramatic rotation\n",
       "would mean some images are used for training with the wrong label (e.g. an image would be rotated\n",
       "sideways by the generator, and still have a label of being upright)"
      ]
     },
     "metadata": {},
     "output_type": "display_data"
    }
   ],
   "source": [
    "q_2.solution()"
   ]
  },
  {
   "cell_type": "markdown",
   "metadata": {
    "_uuid": "88ab336274a5ab10b36950ff904eceeee233de65"
   },
   "source": [
    "# 3) Code\n",
    "Fill in the missing pieces in the following code. We've supplied some boilerplate. You need to think about what ImageDataGenerator is used for each data source."
   ]
  },
  {
   "cell_type": "code",
   "execution_count": null,
   "metadata": {
    "_uuid": "a916a4a62c6c5051c19fc0f913a210bb33707610",
    "tags": [
     "raises-exception"
    ]
   },
   "outputs": [],
   "source": [
    "# Specify which type of ImageDataGenerator above is to load in training data\n",
    "train_generator = data_generator_with_aug.flow_from_directory(\n",
    "        directory = '../input/dogs-gone-sideways/images/train',\n",
    "        target_size=(image_size, image_size),\n",
    "        batch_size=12,\n",
    "        class_mode='categorical')\n",
    "\n",
    "# Specify which type of ImageDataGenerator above is to load in validation data\n",
    "validation_generator = data_generator_no_aug.flow_from_directory(\n",
    "        directory = '../input/dogs-gone-sideways/images/val',\n",
    "        target_size=(image_size, image_size),\n",
    "        class_mode='categorical')\n",
    "\n",
    "my_new_model.fit_generator(\n",
    "        train_generator, # if you don't know what argument goes first, try the hint\n",
    "        epochs = 3,\n",
    "        steps_per_epoch=19,\n",
    "        validation_data=validation_generator)\n",
    "\n",
    "q_3.check()"
   ]
  },
  {
   "cell_type": "code",
   "execution_count": null,
   "metadata": {
    "_uuid": "0dffd43dcd8b1e0c74f8da0d8582269d12c266a0"
   },
   "outputs": [],
   "source": [
    "q_3.hint()\n",
    "q_3.solution()"
   ]
  },
  {
   "cell_type": "markdown",
   "metadata": {
    "_uuid": "2a873639ff8d0e75663063167bba982708dd1d00"
   },
   "source": [
    "# 4) Did Data Augmentation Help?\n",
    "How could you test whether data augmentation improved your model accuracy?\n",
    "\n",
    "Solution: Create train_generator usng data_generator_no_aug but don't change other arguments to train_generator.\n",
    "\n",
    "Run the model and see the resuling accuracy. Compare this to the accuracy you got when train_generator used augmentation.\n",
    "\n",
    "Our validation dataset is very small, so there's a little bit of luck or randomness in the exact score from any model run. Validation scores will be more reliable as you start using larger datasets."
   ]
  },
  {
   "cell_type": "code",
   "execution_count": null,
   "metadata": {
    "_uuid": "f09fdc45e6202e50ccfde9b01969715dc0033f98"
   },
   "outputs": [],
   "source": [
    "q_4.solution()"
   ]
  },
  {
   "cell_type": "code",
   "execution_count": null,
   "metadata": {
    "_uuid": "eb183d74e2568aed07bc01fcd6e3f9b37aa8ba74"
   },
   "outputs": [],
   "source": [
    "# Specify which type of ImageDataGenerator above is to load in training data\n",
    "train_generator = data_generator_no_aug.flow_from_directory(\n",
    "        directory = '../input/dogs-gone-sideways/images/train',\n",
    "        target_size=(image_size, image_size),\n",
    "        batch_size=12,\n",
    "        class_mode='categorical')\n",
    "\n",
    "# Specify which type of ImageDataGenerator above is to load in validation data\n",
    "validation_generator = data_generator_no_aug.flow_from_directory(\n",
    "        directory = '../input/dogs-gone-sideways/images/val',\n",
    "        target_size=(image_size, image_size),\n",
    "        class_mode='categorical')\n",
    "\n",
    "my_new_model.fit_generator(\n",
    "        train_generator, # if you don't know what argument goes first, try the hint\n",
    "        epochs = 3,\n",
    "        steps_per_epoch=19,\n",
    "        validation_data=validation_generator)"
   ]
  }
 ],
 "metadata": {
  "kernelspec": {
   "display_name": "Python 3",
   "language": "python",
   "name": "python3"
  },
  "language_info": {
   "codemirror_mode": {
    "name": "ipython",
    "version": 3
   },
   "file_extension": ".py",
   "mimetype": "text/x-python",
   "name": "python",
   "nbconvert_exporter": "python",
   "pygments_lexer": "ipython3",
   "version": "3.6.6"
  }
 },
 "nbformat": 4,
 "nbformat_minor": 1
}
