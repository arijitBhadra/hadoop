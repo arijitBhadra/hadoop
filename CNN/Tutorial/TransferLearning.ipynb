{
 "cells": [
  {
   "cell_type": "markdown",
   "metadata": {
    "_uuid": "cc51e47ae837ea5d41e2eec168c87312e046a99e"
   },
   "source": [
    "# Exercise Introduction\n",
    "\n",
    "The cameraman who shot our deep learning videos mentioned a problem that we can solve with deep learning.  \n",
    "\n",
    "He offers a service that scans photographs to store them digitally.  He uses a machine that quickly scans many photos. But depending on the orientation of the original photo, many images are digitized sideways.  He fixes these manually, looking at each photo to determine which ones to rotate.\n",
    "\n",
    "In this exercise, you will build a model that distinguishes which photos are sideways and which are upright, so an app could automatically rotate each image if necessary.\n",
    "\n",
    "If you were going to sell this service commercially, you might use a large dataset to train the model. But you'll have great success with even a small dataset.  You'll work with a small dataset of dog pictures, half of which are rotated sideways.\n",
    "\n",
    "Specifying and compiling the model look the same as in the example you've seen. But you'll need to make some changes to fit the model.\n",
    "\n",
    "**Run the following cell to set up automatic feedback.**"
   ]
  },
  {
   "cell_type": "code",
   "execution_count": 1,
   "metadata": {
    "_uuid": "368c46dfa490913643664ff3ae7fe0ef6f965601",
    "scrolled": true
   },
   "outputs": [
    {
     "name": "stdout",
     "output_type": "stream",
     "text": [
      "Setup Complete\n"
     ]
    }
   ],
   "source": [
    "# Set up code checking\n",
    "from learntools.core import binder\n",
    "binder.bind(globals())\n",
    "from learntools.deep_learning.exercise_4 import *\n",
    "print(\"Setup Complete\")"
   ]
  },
  {
   "cell_type": "markdown",
   "metadata": {
    "_uuid": "6a88a104de53d1456add88ca5b050586c4b68fbf"
   },
   "source": [
    "# 1) Specify the Model\n",
    "\n",
    "Since this is your first time, we'll provide some starter code for you to modify. You will probably copy and modify code the first few times you work on your own projects.\n",
    "\n",
    "There are some important parts left blank in the following code.\n",
    "\n",
    "Fill in the blanks (marked with `____`) and run the cell\n"
   ]
  },
  {
   "cell_type": "code",
   "execution_count": 2,
   "metadata": {
    "_uuid": "8a019cdf659ff1ff89ee24fac323abcb2d56dd6c",
    "tags": [
     "raises-exception"
    ]
   },
   "outputs": [
    {
     "data": {
      "application/javascript": [
       "parent.postMessage({\"jupyterEvent\": \"custom.exercise_interaction\", \"data\": {\"outcomeType\": 1, \"valueTowardsCompletion\": 0.5, \"interactionType\": 1, \"learnTutorialId\": 76, \"questionId\": \"1_SetTraininableAndNumClasses\", \"learnToolsVersion\": \"0.2.12\", \"failureMessage\": \"\", \"exceptionClass\": \"\", \"trace\": \"\"}}, \"*\")"
      ],
      "text/plain": [
       "<IPython.core.display.Javascript object>"
      ]
     },
     "metadata": {},
     "output_type": "display_data"
    },
    {
     "data": {
      "text/markdown": [
       "<span style=\"color:#33cc33\">Correct</span>"
      ],
      "text/plain": [
       "Correct"
      ]
     },
     "metadata": {},
     "output_type": "display_data"
    }
   ],
   "source": [
    "from tensorflow.keras.applications import ResNet50\n",
    "from tensorflow.keras.models import Sequential\n",
    "from tensorflow.keras.layers import Dense, Flatten, GlobalAveragePooling2D\n",
    "\n",
    "num_classes = 2\n",
    "resnet_weights_path = '../input/resnet50/resnet50_weights_tf_dim_ordering_tf_kernels_notop.h5'\n",
    "\n",
    "my_new_model = Sequential()\n",
    "my_new_model.add(ResNet50(include_top=False, pooling='avg', weights=resnet_weights_path))\n",
    "my_new_model.add(Dense(num_classes, activation='softmax'))\n",
    "\n",
    "# Indicate whether the first layer should be trained/changed or not.\n",
    "my_new_model.layers[0].trainable = False\n",
    "\n",
    "step_1.check()"
   ]
  },
  {
   "cell_type": "code",
   "execution_count": null,
   "metadata": {
    "_uuid": "4fa1c587bfab3d8a13dc530ff977ddffe864eadf"
   },
   "outputs": [],
   "source": [
    " step_1.hint()\n",
    " step_1.solution()"
   ]
  },
  {
   "cell_type": "markdown",
   "metadata": {
    "_uuid": "aa27ba24095b681729fbc7d7945988524c812aa4"
   },
   "source": [
    "# 2) Compile the Model\n",
    "\n",
    "You now compile the model with the following line.  Run this cell."
   ]
  },
  {
   "cell_type": "code",
   "execution_count": 3,
   "metadata": {
    "_uuid": "94238d9f8e7ef3621f631061b762141e8782991b"
   },
   "outputs": [],
   "source": [
    "my_new_model.compile(optimizer='sgd', \n",
    "                     loss='categorical_crossentropy', \n",
    "                     metrics=['accuracy'])"
   ]
  },
  {
   "cell_type": "markdown",
   "metadata": {
    "_uuid": "d97100e6e5f647901714ddd414d6e845122d6909"
   },
   "source": [
    "That ran nearly instantaneously.  Deep learning models have a reputation for being computationally demanding.  Why did that run so quickly?\n",
    "\n",
    "After thinking about this, check your answer by uncommenting the cell below."
   ]
  },
  {
   "cell_type": "code",
   "execution_count": 4,
   "metadata": {
    "_uuid": "d7e853570aa8802fec8b1d127099cfcd02aba33a"
   },
   "outputs": [
    {
     "data": {
      "application/javascript": [
       "parent.postMessage({\"jupyterEvent\": \"custom.exercise_interaction\", \"data\": {\"interactionType\": 3, \"learnTutorialId\": 76, \"questionId\": \"2_CompileTransferLearningModel\", \"learnToolsVersion\": \"0.2.12\", \"valueTowardsCompletion\": 0.0, \"failureMessage\": \"\", \"exceptionClass\": \"\", \"trace\": \"\", \"outcomeType\": 4}}, \"*\")"
      ],
      "text/plain": [
       "<IPython.core.display.Javascript object>"
      ]
     },
     "metadata": {},
     "output_type": "display_data"
    },
    {
     "data": {
      "text/markdown": [
       "<span style=\"color:#33cc99\">Solution:</span> \n",
       "The compile model doesn't change the values in any convolutions.  In fact, your model has not even\n",
       "received an argument with data yet.  Compile specifies how your model will make updates a later\n",
       "`fit` step where it receives data.  That is the part that will take longer.\n"
      ],
      "text/plain": [
       "Solution: \n",
       "The compile model doesn't change the values in any convolutions.  In fact, your model has not even\n",
       "received an argument with data yet.  Compile specifies how your model will make updates a later\n",
       "`fit` step where it receives data.  That is the part that will take longer."
      ]
     },
     "metadata": {},
     "output_type": "display_data"
    }
   ],
   "source": [
    " step_2.solution()"
   ]
  },
  {
   "cell_type": "markdown",
   "metadata": {
    "_uuid": "c58ecf96eef45dc51052dc845ebe37c3863dc5de"
   },
   "source": [
    "# 3) Review the Compile Step\n",
    "You provided three arguments in the compile step.  \n",
    "- optimizer=  determines how we determine the numerical values that make up the model. So it can affect the resulting model and predictions\n",
    "- loss= determines what goal we optimize when determining numerical values in the model. So it can affect the resulting model and predictions\n",
    "- metrics=determines only what we print out while the model is being built, but it doesn't affect the model itself.\n",
    "\n",
    "Which arguments could affect the accuracy of the predictions that come out of the model?  After you have your answer, run the cell below to see the solution."
   ]
  },
  {
   "cell_type": "code",
   "execution_count": 5,
   "metadata": {
    "_uuid": "5ec1d79e8ce13793c6f231f834d9737032aa96f4"
   },
   "outputs": [
    {
     "data": {
      "application/javascript": [
       "parent.postMessage({\"jupyterEvent\": \"custom.exercise_interaction\", \"data\": {\"interactionType\": 3, \"learnTutorialId\": 76, \"questionId\": \"3_WhatCompileArgsAffectModel\", \"learnToolsVersion\": \"0.2.12\", \"valueTowardsCompletion\": 0.0, \"failureMessage\": \"\", \"exceptionClass\": \"\", \"trace\": \"\", \"outcomeType\": 4}}, \"*\")"
      ],
      "text/plain": [
       "<IPython.core.display.Javascript object>"
      ]
     },
     "metadata": {},
     "output_type": "display_data"
    },
    {
     "data": {
      "text/markdown": [
       "<span style=\"color:#33cc99\">Solution:</span> \n",
       "- **optimizer** determines how we determine the numerical values that make up the model. So it can affect the resulting model and predictions\n",
       "- **loss** determines what goal we optimize when determining numerical values in the model. So it can affect the resulting model and predictions\n",
       "- **metrics** determines only what we print out while the model is being built, but it doesn't affect the model itself.\n",
       "\n",
       "You may not understand all of this yet. That's totally fine for now.  It will become\n",
       "clearer in an upcoming lesson (called A Deeper Understanding of Deep Learning).\n"
      ],
      "text/plain": [
       "Solution: \n",
       "- **optimizer** determines how we determine the numerical values that make up the model. So it can affect the resulting model and predictions\n",
       "- **loss** determines what goal we optimize when determining numerical values in the model. So it can affect the resulting model and predictions\n",
       "- **metrics** determines only what we print out while the model is being built, but it doesn't affect the model itself.\n",
       "\n",
       "You may not understand all of this yet. That's totally fine for now.  It will become\n",
       "clearer in an upcoming lesson (called A Deeper Understanding of Deep Learning)."
      ]
     },
     "metadata": {},
     "output_type": "display_data"
    }
   ],
   "source": [
    " step_3.solution()"
   ]
  },
  {
   "cell_type": "markdown",
   "metadata": {
    "_uuid": "11063d1d9815e51e2a6a744ab35f3b8a6b747a32"
   },
   "source": [
    " # 4) Fit Model\n",
    "\n",
    "**Your training data is in the directory `../input/dogs-gone-sideways/images/train`. The validation data is in `../input/dogs-gone-sideways/images/val`**. Use that information when setting up `train_generator` and `validation_generator`.\n",
    "\n",
    "You have 220 images of training data and 217 of validation data.  For the training generator, we set a batch size of 10. Figure out the appropriate value of `steps_per_epoch` in your `fit_generator` call.\n",
    "\n",
    "Fill in all the blanks (again marked as `____`).  Then run the cell of code.  Watch as your model trains the weights and the accuracy improves."
   ]
  },
  {
   "cell_type": "code",
   "execution_count": null,
   "metadata": {
    "_uuid": "89b5ce7a227317818d6439e6ae021ecab3cceded",
    "tags": [
     "raises-exception"
    ]
   },
   "outputs": [],
   "source": [
    "from tensorflow.keras.applications.resnet50 import preprocess_input\n",
    "from tensorflow.keras.preprocessing.image import ImageDataGenerator\n",
    "\n",
    "image_size = 224\n",
    "data_generator = ImageDataGenerator(preprocess_input)\n",
    "\n",
    "train_generator = data_generator.flow_from_directory(\n",
    "                                        directory='../input/dogs-gone-sideways/images/train',\n",
    "                                        target_size=(image_size, image_size),\n",
    "                                        batch_size=10,\n",
    "                                        class_mode='categorical')\n",
    "\n",
    "validation_generator = data_generator.flow_from_directory(\n",
    "                                        directory='../input/dogs-gone-sideways/images/val',\n",
    "                                        target_size=(image_size, image_size),\n",
    "                                        class_mode='categorical')\n",
    "\n",
    "# fit_stats below saves some statistics describing how model fitting went\n",
    "# the key role of the following line is how it changes my_new_model by fitting to data\n",
    "fit_stats = my_new_model.fit_generator(train_generator,\n",
    "                                       steps_per_epoch=22,\n",
    "                                       validation_data=validation_generator,\n",
    "                                       validation_steps=1)\n",
    "\n",
    "step_4.check()"
   ]
  },
  {
   "cell_type": "code",
   "execution_count": 7,
   "metadata": {
    "_uuid": "6f8a85ec3ee50f2262084a885ca84c3dd097d886"
   },
   "outputs": [
    {
     "data": {
      "application/javascript": [
       "parent.postMessage({\"jupyterEvent\": \"custom.exercise_interaction\", \"data\": {\"interactionType\": 3, \"learnTutorialId\": 76, \"questionId\": \"4_FitTransferModel\", \"learnToolsVersion\": \"0.2.12\", \"valueTowardsCompletion\": 0.0, \"failureMessage\": \"\", \"exceptionClass\": \"\", \"trace\": \"\", \"outcomeType\": 4}}, \"*\")"
      ],
      "text/plain": [
       "<IPython.core.display.Javascript object>"
      ]
     },
     "metadata": {},
     "output_type": "display_data"
    },
    {
     "data": {
      "text/markdown": [
       "<span style=\"color:#33cc99\">Solution:</span> \n",
       "```python\n",
       "\n",
       "image_size = 224\n",
       "data_generator = ImageDataGenerator(preprocess_input)\n",
       "\n",
       "train_generator = data_generator.flow_from_directory(\n",
       "                                        directory=../input/dogs-gone-sideways/images/train,\n",
       "                                        target_size=(image_size, image_size),\n",
       "                                        batch_size=10,\n",
       "                                        class_mode='categorical')\n",
       "\n",
       "validation_generator = data_generator.flow_from_directory(\n",
       "                                        directory=\"../input/dogs-gone-sideways/images/val\",\n",
       "                                        target_size=(image_size, image_size),\n",
       "                                        class_mode='categorical')\n",
       "\n",
       "# fit_stats below saves some statistics describing how model fitting went\n",
       "# the key role of the following line is how it changes my_new_model by fitting to data\n",
       "fit_stats = my_new_model.fit_generator(train_generator,\n",
       "                                       steps_per_epoch=22,\n",
       "                                       validation_data=validation_generator,\n",
       "                                       validation_steps=1)\n",
       "\n",
       "```"
      ],
      "text/plain": [
       "Solution: \n",
       "```python\n",
       "\n",
       "image_size = 224\n",
       "data_generator = ImageDataGenerator(preprocess_input)\n",
       "\n",
       "train_generator = data_generator.flow_from_directory(\n",
       "                                        directory=../input/dogs-gone-sideways/images/train,\n",
       "                                        target_size=(image_size, image_size),\n",
       "                                        batch_size=10,\n",
       "                                        class_mode='categorical')\n",
       "\n",
       "validation_generator = data_generator.flow_from_directory(\n",
       "                                        directory=\"../input/dogs-gone-sideways/images/val\",\n",
       "                                        target_size=(image_size, image_size),\n",
       "                                        class_mode='categorical')\n",
       "\n",
       "# fit_stats below saves some statistics describing how model fitting went\n",
       "# the key role of the following line is how it changes my_new_model by fitting to data\n",
       "fit_stats = my_new_model.fit_generator(train_generator,\n",
       "                                       steps_per_epoch=22,\n",
       "                                       validation_data=validation_generator,\n",
       "                                       validation_steps=1)\n",
       "\n",
       "```"
      ]
     },
     "metadata": {},
     "output_type": "display_data"
    }
   ],
   "source": [
    " step_4.solution()"
   ]
  }
 ],
 "metadata": {
  "kernelspec": {
   "display_name": "Python 3",
   "language": "python",
   "name": "python3"
  },
  "language_info": {
   "codemirror_mode": {
    "name": "ipython",
    "version": 3
   },
   "file_extension": ".py",
   "mimetype": "text/x-python",
   "name": "python",
   "nbconvert_exporter": "python",
   "pygments_lexer": "ipython3",
   "version": "3.6.6"
  }
 },
 "nbformat": 4,
 "nbformat_minor": 1
}
